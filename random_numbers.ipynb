{
 "cells": [
  {
   "cell_type": "code",
   "execution_count": 1,
   "id": "9fd07718",
   "metadata": {},
   "outputs": [],
   "source": [
    "# Import the random module.\n",
    "import random\n",
    "# Import the NumPy module.\n",
    "import numpy as np\n",
    "# Import timeit.\n",
    "import timeit"
   ]
  },
  {
   "cell_type": "code",
   "execution_count": 2,
   "id": "5955f228",
   "metadata": {},
   "outputs": [
    {
     "data": {
      "text/plain": [
       "-48"
      ]
     },
     "execution_count": 2,
     "metadata": {},
     "output_type": "execute_result"
    }
   ],
   "source": [
    "random.randint(-90, 90)"
   ]
  },
  {
   "cell_type": "code",
   "execution_count": 3,
   "id": "24669a50",
   "metadata": {},
   "outputs": [
    {
     "data": {
      "text/plain": [
       "0.9806921562463835"
      ]
     },
     "execution_count": 3,
     "metadata": {},
     "output_type": "execute_result"
    }
   ],
   "source": [
    "random.random()"
   ]
  },
  {
   "cell_type": "code",
   "execution_count": 12,
   "id": "14116b86",
   "metadata": {},
   "outputs": [
    {
     "data": {
      "text/plain": [
       "[72.97559471887352,\n",
       " 42.99474765403188,\n",
       " 73.10622045768608,\n",
       " -51.97471885625751,\n",
       " -84.08793010559585,\n",
       " 19.102097268735804,\n",
       " -72.7749791908519,\n",
       " -84.14791617981044,\n",
       " -55.23725395273396,\n",
       " 64.31251993242827,\n",
       " -80.53519733104527]"
      ]
     },
     "execution_count": 12,
     "metadata": {},
     "output_type": "execute_result"
    }
   ],
   "source": [
    "def latitudes(x):\n",
    "    return[random.randint(-90, 89) + random.random() for i in range(x)]\n",
    "latitudes(11)"
   ]
  },
  {
   "cell_type": "code",
   "execution_count": 5,
   "id": "6294f985",
   "metadata": {},
   "outputs": [
    {
     "data": {
      "text/plain": [
       "81"
      ]
     },
     "execution_count": 5,
     "metadata": {},
     "output_type": "execute_result"
    }
   ],
   "source": [
    "random.randrange(-90, 90, step=1)"
   ]
  },
  {
   "cell_type": "code",
   "execution_count": 6,
   "id": "0b3d57e4",
   "metadata": {},
   "outputs": [
    {
     "data": {
      "text/plain": [
       "6"
      ]
     },
     "execution_count": 6,
     "metadata": {},
     "output_type": "execute_result"
    }
   ],
   "source": [
    "random.randrange(-90, 90, step=3)"
   ]
  },
  {
   "cell_type": "code",
   "execution_count": 7,
   "id": "51de272a",
   "metadata": {
    "scrolled": true
   },
   "outputs": [
    {
     "data": {
      "text/plain": [
       "[-14.80021791856873,\n",
       " 63.023003108238406,\n",
       " -74.24427334935075,\n",
       " 51.92248173493548,\n",
       " 12.892609712646806,\n",
       " -8.611697008298012,\n",
       " 36.167313324984505,\n",
       " -26.610921670549516,\n",
       " -17.368412829504003,\n",
       " -20.542048080029613,\n",
       " 27.485217630217996]"
      ]
     },
     "execution_count": 7,
     "metadata": {},
     "output_type": "execute_result"
    }
   ],
   "source": [
    "lats = [random.randrange(-90, 90, step=3)+random.random() for i in range(11)]\n",
    "lats"
   ]
  },
  {
   "cell_type": "code",
   "execution_count": 8,
   "id": "e847b2c4",
   "metadata": {},
   "outputs": [
    {
     "data": {
      "text/plain": [
       "-48.87008226994813"
      ]
     },
     "execution_count": 8,
     "metadata": {},
     "output_type": "execute_result"
    }
   ],
   "source": [
    "np.random.uniform(-90.000, 90.000)"
   ]
  },
  {
   "cell_type": "code",
   "execution_count": 9,
   "id": "6f17707b",
   "metadata": {},
   "outputs": [
    {
     "data": {
      "text/plain": [
       "array([-35.68781486,   8.19536712,  28.96452966,  61.08982273,\n",
       "        31.86641255, -54.75936347,  -4.12614067,  46.59848713,\n",
       "        60.20405888,  39.59838184,  87.74563816, -17.36722643,\n",
       "        74.0829187 ,  29.23638379,  51.03428176,  12.43666279,\n",
       "        -7.14274337,  40.10343848,  57.88266785, -72.32189357,\n",
       "        34.74546887,  49.94982637,  85.56478025, -39.45950908,\n",
       "        80.25595907, -57.73931032,  29.24285695, -88.93143903,\n",
       "        77.37755094,  44.24222474, -40.19453724, -66.34082178,\n",
       "         4.4675063 ,  19.29124393, -31.69033537,  47.3841575 ,\n",
       "       -86.78305822, -34.43794816,  54.92552342,  52.52776518,\n",
       "        48.70264327, -66.15479896,  61.34162229,  28.82952333,\n",
       "        70.79869087,  77.28340939, -44.31217721,  81.13669868,\n",
       "        64.61885109,  43.77310081])"
      ]
     },
     "execution_count": 9,
     "metadata": {},
     "output_type": "execute_result"
    }
   ],
   "source": [
    "np.random.uniform(-90.000, 90.000, size=50)"
   ]
  },
  {
   "cell_type": "code",
   "execution_count": null,
   "id": "7f797264",
   "metadata": {},
   "outputs": [],
   "source": [
    "%timeit np.random.uniform(-90.000, 90.000, size=1500)"
   ]
  },
  {
   "cell_type": "code",
   "execution_count": 11,
   "id": "dd5a9692",
   "metadata": {},
   "outputs": [],
   "source": [
    "def lats(size):\n",
    "    latitudes = []\n",
    "    x = 0\n",
    "    while x < (size):\n",
    "        random_lat = random.randint(-90, 90) + random.random()\n",
    "        latitudes.append(random_lat)\n",
    "        x += 1\n",
    "    return latitudes"
   ]
  },
  {
   "cell_type": "code",
   "execution_count": 13,
   "id": "0bed1ee6",
   "metadata": {},
   "outputs": [
    {
     "name": "stdout",
     "output_type": "stream",
     "text": [
      "1.36 ms ± 3.13 µs per loop (mean ± std. dev. of 7 runs, 1000 loops each)\n"
     ]
    }
   ],
   "source": [
    "# Call the function with 1500.\n",
    "%timeit latitudes(1500)"
   ]
  },
  {
   "cell_type": "code",
   "execution_count": null,
   "id": "63e70940",
   "metadata": {},
   "outputs": [],
   "source": []
  }
 ],
 "metadata": {
  "kernelspec": {
   "display_name": "PythonData",
   "language": "python",
   "name": "pythondata"
  },
  "language_info": {
   "codemirror_mode": {
    "name": "ipython",
    "version": 3
   },
   "file_extension": ".py",
   "mimetype": "text/x-python",
   "name": "python",
   "nbconvert_exporter": "python",
   "pygments_lexer": "ipython3",
   "version": "3.7.10"
  }
 },
 "nbformat": 4,
 "nbformat_minor": 5
}
